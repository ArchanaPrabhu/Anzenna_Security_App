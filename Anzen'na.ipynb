{
 "cells": [
  {
   "cell_type": "code",
   "execution_count": 2,
   "metadata": {
    "scrolled": true
   },
   "outputs": [
    {
     "name": "stdout",
     "output_type": "stream",
     "text": [
      "./videos/output_1543655819.avi\n"
     ]
    },
    {
     "name": "stderr",
     "output_type": "stream",
     "text": [
      "/home/deepti/anaconda3/envs/anomaly/lib/python3.6/site-packages/keras/utils/conv_utils.py:82: FutureWarning: Using a non-tuple sequence for multidimensional indexing is deprecated; use `arr[tuple(seq)]` instead of `arr[seq]`. In the future this will be interpreted as an array index, `arr[np.array(seq)]`, which will result either in an error or a different result.\n",
      "  return np.copy(kernel[slices])\n"
     ]
    },
    {
     "name": "stdout",
     "output_type": "stream",
     "text": [
      "Processing file: ./videos/output_1543655819.avi\n",
      "/home/deepti/Documents/AnomalyDetection/Rakathon/features/output_1543655819.txt\n",
      "[0]\n",
      "Saved features for Video segs: \n",
      "./.~Anzen'na.ipynb\n",
      "./.~Stream.ipynb\n",
      "./features/output_1543655819.txt\n",
      "output_1543655819.avi\n"
     ]
    },
    {
     "name": "stderr",
     "output_type": "stream",
     "text": [
      "/home/deepti/anaconda3/envs/anomaly/lib/python3.6/site-packages/keras/engine/base_layer.py:1109: UserWarning: Update your `Dense` call to the Keras 2 API: `Dense(name=\"dense_1\", activity_regularizer=None, trainable=True, input_dtype=\"float32\", input_dim=4096, activation=\"relu\", batch_input_shape=[None, 409..., units=512, kernel_initializer=\"glorot_normal\", bias_regularizer=None, kernel_constraint=None, bias_constraint=None, use_bias=True)`\n",
      "  return cls(**config)\n",
      "/home/deepti/anaconda3/envs/anomaly/lib/python3.6/site-packages/keras/engine/base_layer.py:1109: UserWarning: Update your `Dropout` call to the Keras 2 API: `Dropout(trainable=True, name=\"dropout_1\", rate=0.6)`\n",
      "  return cls(**config)\n",
      "/home/deepti/anaconda3/envs/anomaly/lib/python3.6/site-packages/keras/engine/base_layer.py:1109: UserWarning: Update your `Dense` call to the Keras 2 API: `Dense(name=\"dense_2\", activity_regularizer=None, trainable=True, input_dim=None, activation=\"linear\", units=32, kernel_initializer=\"glorot_normal\", bias_regularizer=None, kernel_constraint=None, bias_constraint=None, use_bias=True)`\n",
      "  return cls(**config)\n",
      "/home/deepti/anaconda3/envs/anomaly/lib/python3.6/site-packages/keras/engine/base_layer.py:1109: UserWarning: Update your `Dropout` call to the Keras 2 API: `Dropout(trainable=True, name=\"dropout_2\", rate=0.6)`\n",
      "  return cls(**config)\n",
      "/home/deepti/anaconda3/envs/anomaly/lib/python3.6/site-packages/keras/engine/base_layer.py:1109: UserWarning: Update your `Dense` call to the Keras 2 API: `Dense(name=\"dense_3\", activity_regularizer=None, trainable=True, input_dim=None, activation=\"sigmoid\", units=1, kernel_initializer=\"glorot_normal\", bias_regularizer=None, kernel_constraint=None, bias_constraint=None, use_bias=True)`\n",
      "  return cls(**config)\n"
     ]
    },
    {
     "name": "stdout",
     "output_type": "stream",
     "text": [
      "Anomaly Prediction\n",
      "./outputs/anomaly_1543655819.avi\n"
     ]
    }
   ],
   "source": [
    "import os\n",
    "import time\n",
    "from watchdog.observers import Observer\n",
    "from watchdog.events import FileSystemEventHandler\n",
    "from extract_features import extract_features\n",
    "from predict import init\n",
    "\n",
    "class CreatedHandler(FileSystemEventHandler):\n",
    "\n",
    "    def on_created(self, event):\n",
    "        if event.is_directory:\n",
    "            return\n",
    "        filepath, ext = os.path.splitext(event.src_path)\n",
    "        print(event.src_path)\n",
    "        parent = (filepath.split('/'))[-2]\n",
    "        if (ext == '.avi' and parent == 'videos'):\n",
    "            time.sleep(0.5)\n",
    "            extract_features(event.src_path)\n",
    "        elif (ext == '.txt' and parent == 'features'):\n",
    "            video_name = ((filepath.split('/'))[-1]) + '.avi'\n",
    "            print(video_name)\n",
    "            init(video_name)\n",
    "        \n",
    "\n",
    "if __name__ == \"__main__\":\n",
    "    event_handler = CreatedHandler()\n",
    "    observer = Observer()\n",
    "    observer.schedule(event_handler, '.', recursive=True)\n",
    "    observer.start()\n",
    "    try:\n",
    "        while True:\n",
    "            time.sleep(1)\n",
    "    except KeyboardInterrupt:\n",
    "        observer.stop()\n",
    "    observer.join()"
   ]
  },
  {
   "cell_type": "code",
   "execution_count": null,
   "metadata": {},
   "outputs": [],
   "source": []
  }
 ],
 "metadata": {
  "kernelspec": {
   "display_name": "Python [conda env:anomaly]",
   "language": "python",
   "name": "conda-env-anomaly-py"
  },
  "language_info": {
   "codemirror_mode": {
    "name": "ipython",
    "version": 3
   },
   "file_extension": ".py",
   "mimetype": "text/x-python",
   "name": "python",
   "nbconvert_exporter": "python",
   "pygments_lexer": "ipython3",
   "version": "3.6.6"
  }
 },
 "nbformat": 4,
 "nbformat_minor": 2
}
