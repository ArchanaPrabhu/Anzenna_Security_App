{
 "cells": [
  {
   "cell_type": "code",
   "execution_count": 3,
   "metadata": {},
   "outputs": [
    {
     "name": "stdout",
     "output_type": "stream",
     "text": [
      "videos/output_1543655819.avi\n",
      "videos/output_1543655819.avi\n"
     ]
    }
   ],
   "source": [
    "from save_stream import save_webcam\n",
    "from multiprocessing import Process\n",
    "import os\n",
    "import time\n",
    "\n",
    "ip_address = ['http://10.99.0.19:8080/video']\n",
    "\n",
    "def main():\n",
    "    proc = []\n",
    "    for i in range(len(ip_address)):\n",
    "        outPathDir = 'videos'\n",
    "        outPathFile = 'output_'+ str(int(time.time()) + i) + '.avi'\n",
    "        outPath = os.path.join(outPathDir, outPathFile)\n",
    "        print(outPath)\n",
    "        p = Process(target=save_webcam, args=(ip_address[i], outPath,))\n",
    "        proc.append(p)\n",
    "        \n",
    "    for p in proc:\n",
    "        p.start()\n",
    "        \n",
    "    for p in proc:\n",
    "        p.join()\n",
    "    \n",
    "if __name__ == '__main__':\n",
    "    main()"
   ]
  },
  {
   "cell_type": "code",
   "execution_count": null,
   "metadata": {},
   "outputs": [],
   "source": []
  }
 ],
 "metadata": {
  "kernelspec": {
   "display_name": "Python [conda env:anomaly]",
   "language": "python",
   "name": "conda-env-anomaly-py"
  },
  "language_info": {
   "codemirror_mode": {
    "name": "ipython",
    "version": 3
   },
   "file_extension": ".py",
   "mimetype": "text/x-python",
   "name": "python",
   "nbconvert_exporter": "python",
   "pygments_lexer": "ipython3",
   "version": "3.6.6"
  }
 },
 "nbformat": 4,
 "nbformat_minor": 2
}
